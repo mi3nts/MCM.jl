{
 "cells": [
  {
   "cell_type": "markdown",
   "id": "b155f1d2",
   "metadata": {},
   "source": [
    "# Repressilator Example from Catalyst Documentation "
   ]
  },
  {
   "cell_type": "markdown",
   "id": "5ecb83c9",
   "metadata": {},
   "source": [
    "## Load Model"
   ]
  },
  {
   "cell_type": "code",
   "execution_count": 3,
   "id": "ed07e363",
   "metadata": {},
   "outputs": [],
   "source": [
    "using GraphPlot\n",
    "using Plots\n",
    "using LinearAlgebra"
   ]
  },
  {
   "cell_type": "code",
   "execution_count": 4,
   "id": "70019135",
   "metadata": {},
   "outputs": [
    {
     "data": {
      "text/latex": [
       "$$ \\begin{align*}\n",
       "\\require{mhchem}\n",
       "\\ce{ \\varnothing &->[$\\frac{\\alpha K^{n}}{K^{n} + P_3^{n}}$] m_1}\\\\\n",
       "\\ce{ \\varnothing &->[$\\frac{\\alpha K^{n}}{K^{n} + P_1^{n}}$] m_2}\\\\\n",
       "\\ce{ \\varnothing &->[$\\frac{\\alpha K^{n}}{K^{n} + P_2^{n}}$] m_3}\\\\\n",
       "\\ce{ m_1 &<=>[$\\delta$][$\\gamma$] \\varnothing}\\\\\n",
       "\\ce{ m_2 &<=>[$\\delta$][$\\gamma$] \\varnothing}\\\\\n",
       "\\ce{ m_3 &<=>[$\\delta$][$\\gamma$] \\varnothing}\\\\\n",
       "\\ce{ m_1 &->[$\\beta$] m_1 + P_1}\\\\\n",
       "\\ce{ m_2 &->[$\\beta$] m_2 + P_2}\\\\\n",
       "\\ce{ m_3 &->[$\\beta$] m_3 + P_3}\\\\\n",
       "\\ce{ P_1 &->[$\\mu$] \\varnothing}\\\\\n",
       "\\ce{ P_2 &->[$\\mu$] \\varnothing}\\\\\n",
       "\\ce{ P_3 &->[$\\mu$] \\varnothing}\n",
       "\\end{align*}\n",
       " $$"
      ],
      "text/plain": [
       "\u001b[0m\u001b[1mModel Repressilator\u001b[22m\n",
       "\u001b[0m\u001b[1mStates (6):\u001b[22m\n",
       "  m₁(t)\n",
       "  m₂(t)\n",
       "  m₃(t)\n",
       "  P₁(t)\n",
       "  P₂(t)\n",
       "  P₃(t)\n",
       "\u001b[0m\u001b[1mParameters (7):\u001b[22m\n",
       "  α\n",
       "  K\n",
       "  n\n",
       "  δ\n",
       "  γ\n",
       "  β\n",
       "⋮"
      ]
     },
     "execution_count": 4,
     "metadata": {},
     "output_type": "execute_result"
    }
   ],
   "source": [
    "using Catalyst\n",
    "repressilator = @reaction_network Repressilator begin\n",
    "       hillr(P₃,α,K,n), ∅ --> m₁\n",
    "       hillr(P₁,α,K,n), ∅ --> m₂\n",
    "       hillr(P₂,α,K,n), ∅ --> m₃\n",
    "       (δ,γ), m₁ <--> ∅\n",
    "       (δ,γ), m₂ <--> ∅\n",
    "       (δ,γ), m₃ <--> ∅\n",
    "       β, m₁ --> m₁ + P₁\n",
    "       β, m₂ --> m₂ + P₂\n",
    "       β, m₃ --> m₃ + P₃\n",
    "       μ, P₁ --> ∅\n",
    "       μ, P₂ --> ∅\n",
    "       μ, P₃ --> ∅\n",
    "end α K n δ γ β μ"
   ]
  },
  {
   "cell_type": "code",
   "execution_count": 7,
   "id": "b34f7b99",
   "metadata": {},
   "outputs": [
    {
     "data": {
      "text/plain": [
       "Graph(\"G\", true, \"dot\", Catalyst.Statement[Catalyst.Node(\"m₁\", OrderedCollections.OrderedDict{Symbol, Union{Catalyst.Html, String}}(:shape => \"circle\", :color => \"#6C9AC3\")), Catalyst.Node(\"m₂\", OrderedCollections.OrderedDict{Symbol, Union{Catalyst.Html, String}}(:shape => \"circle\", :color => \"#6C9AC3\")), Catalyst.Node(\"m₃\", OrderedCollections.OrderedDict{Symbol, Union{Catalyst.Html, String}}(:shape => \"circle\", :color => \"#6C9AC3\")), Catalyst.Node(\"P₁\", OrderedCollections.OrderedDict{Symbol, Union{Catalyst.Html, String}}(:shape => \"circle\", :color => \"#6C9AC3\")), Catalyst.Node(\"P₂\", OrderedCollections.OrderedDict{Symbol, Union{Catalyst.Html, String}}(:shape => \"circle\", :color => \"#6C9AC3\")), Catalyst.Node(\"P₃\", OrderedCollections.OrderedDict{Symbol, Union{Catalyst.Html, String}}(:shape => \"circle\", :color => \"#6C9AC3\")), Catalyst.Node(\"rx_1\", OrderedCollections.OrderedDict{Symbol, Union{Catalyst.Html, String}}(:shape => \"point\", :color => \"#E28F41\", :width => \".1\")), Catalyst.Node(\"rx_2\", OrderedCollections.OrderedDict{Symbol, Union{Catalyst.Html, String}}(:shape => \"point\", :color => \"#E28F41\", :width => \".1\")), Catalyst.Node(\"rx_3\", OrderedCollections.OrderedDict{Symbol, Union{Catalyst.Html, String}}(:shape => \"point\", :color => \"#E28F41\", :width => \".1\")), Catalyst.Node(\"rx_4\", OrderedCollections.OrderedDict{Symbol, Union{Catalyst.Html, String}}(:shape => \"point\", :color => \"#E28F41\", :width => \".1\"))  …  Catalyst.Edge(Catalyst.NodeID[Catalyst.NodeID(\"rx_11\", \"\", \"\"), Catalyst.NodeID(\"P₂\", \"\", \"\")], OrderedCollections.OrderedDict{Symbol, Union{Catalyst.Html, String}}(:label => \"1\", :labelfontsize => \"6\")), Catalyst.Edge(Catalyst.NodeID[Catalyst.NodeID(\"m₃\", \"\", \"\"), Catalyst.NodeID(\"rx_12\", \"\", \"\")], OrderedCollections.OrderedDict{Symbol, Union{Catalyst.Html, String}}(:label => \"1\", :labelfontsize => \"6\")), Catalyst.Edge(Catalyst.NodeID[Catalyst.NodeID(\"rx_12\", \"\", \"\"), Catalyst.NodeID(\"m₃\", \"\", \"\")], OrderedCollections.OrderedDict{Symbol, Union{Catalyst.Html, String}}(:label => \"1\", :labelfontsize => \"6\")), Catalyst.Edge(Catalyst.NodeID[Catalyst.NodeID(\"rx_12\", \"\", \"\"), Catalyst.NodeID(\"P₃\", \"\", \"\")], OrderedCollections.OrderedDict{Symbol, Union{Catalyst.Html, String}}(:label => \"1\", :labelfontsize => \"6\")), Catalyst.Edge(Catalyst.NodeID[Catalyst.NodeID(\"P₁\", \"\", \"\"), Catalyst.NodeID(\"rx_13\", \"\", \"\")], OrderedCollections.OrderedDict{Symbol, Union{Catalyst.Html, String}}(:label => \"1\", :labelfontsize => \"6\")), Catalyst.Edge(Catalyst.NodeID[Catalyst.NodeID(\"P₂\", \"\", \"\"), Catalyst.NodeID(\"rx_14\", \"\", \"\")], OrderedCollections.OrderedDict{Symbol, Union{Catalyst.Html, String}}(:label => \"1\", :labelfontsize => \"6\")), Catalyst.Edge(Catalyst.NodeID[Catalyst.NodeID(\"P₃\", \"\", \"\"), Catalyst.NodeID(\"rx_15\", \"\", \"\")], OrderedCollections.OrderedDict{Symbol, Union{Catalyst.Html, String}}(:label => \"1\", :labelfontsize => \"6\")), Catalyst.Edge(Catalyst.NodeID[Catalyst.NodeID(\"P₃\", \"\", \"\"), Catalyst.NodeID(\"rx_1\", \"\", \"\")], OrderedCollections.OrderedDict{Symbol, Union{Catalyst.Html, String}}(:color => \"#d91111\", :style => \"dashed\")), Catalyst.Edge(Catalyst.NodeID[Catalyst.NodeID(\"P₁\", \"\", \"\"), Catalyst.NodeID(\"rx_2\", \"\", \"\")], OrderedCollections.OrderedDict{Symbol, Union{Catalyst.Html, String}}(:color => \"#d91111\", :style => \"dashed\")), Catalyst.Edge(Catalyst.NodeID[Catalyst.NodeID(\"P₂\", \"\", \"\"), Catalyst.NodeID(\"rx_3\", \"\", \"\")], OrderedCollections.OrderedDict{Symbol, Union{Catalyst.Html, String}}(:color => \"#d91111\", :style => \"dashed\"))], OrderedCollections.OrderedDict{Symbol, Union{Catalyst.Html, String}}(:rankdir => \"LR\"), OrderedCollections.OrderedDict{Symbol, Union{Catalyst.Html, String}}(:shape => \"plain\", :style => \"filled\", :color => \"white\"), OrderedCollections.OrderedDict{Symbol, Union{Catalyst.Html, String}}(:splines => \"splines\"))"
      ]
     },
     "execution_count": 7,
     "metadata": {},
     "output_type": "execute_result"
    }
   ],
   "source": [
    "g=Graph(repressilator)"
   ]
  },
  {
   "cell_type": "markdown",
   "id": "653fc246",
   "metadata": {},
   "source": [
    "## Matrix-Vector Reaction Rate Equation Representation"
   ]
  },
  {
   "cell_type": "code",
   "execution_count": 4,
   "id": "9d7e56e8",
   "metadata": {},
   "outputs": [
    {
     "data": {
      "text/plain": [
       "6-element Vector{Term{Real, Base.ImmutableDict{DataType, Any}}}:\n",
       " m₁(t)\n",
       " m₂(t)\n",
       " m₃(t)\n",
       " P₁(t)\n",
       " P₂(t)\n",
       " P₃(t)"
      ]
     },
     "metadata": {},
     "output_type": "display_data"
    }
   ],
   "source": [
    "x=species(repressilator)"
   ]
  },
  {
   "cell_type": "code",
   "execution_count": 5,
   "id": "47554407",
   "metadata": {},
   "outputs": [
    {
     "data": {
      "text/plain": [
       "6×15 Matrix{Int64}:\n",
       " 1  0  0  -1  1   0  0   0  0  0  0  0   0   0   0\n",
       " 0  1  0   0  0  -1  1   0  0  0  0  0   0   0   0\n",
       " 0  0  1   0  0   0  0  -1  1  0  0  0   0   0   0\n",
       " 0  0  0   0  0   0  0   0  0  1  0  0  -1   0   0\n",
       " 0  0  0   0  0   0  0   0  0  0  1  0   0  -1   0\n",
       " 0  0  0   0  0   0  0   0  0  0  0  1   0   0  -1"
      ]
     },
     "metadata": {},
     "output_type": "display_data"
    }
   ],
   "source": [
    "N = netstoichmat(repressilator)"
   ]
  },
  {
   "cell_type": "code",
   "execution_count": 6,
   "id": "14fce1d1",
   "metadata": {},
   "outputs": [
    {
     "data": {
      "text/plain": [
       "15-element Vector{SymbolicUtils.Symbolic{Real}}:\n",
       " Catalyst.hillr(P₃(t), α, K, n)\n",
       " Catalyst.hillr(P₁(t), α, K, n)\n",
       " Catalyst.hillr(P₂(t), α, K, n)\n",
       " δ*m₁(t)\n",
       " γ\n",
       " δ*m₂(t)\n",
       " γ\n",
       " δ*m₃(t)\n",
       " γ\n",
       " β*m₁(t)\n",
       " β*m₂(t)\n",
       " β*m₃(t)\n",
       " μ*P₁(t)\n",
       " μ*P₂(t)\n",
       " μ*P₃(t)"
      ]
     },
     "metadata": {},
     "output_type": "display_data"
    }
   ],
   "source": [
    "rxs = reactions(repressilator)\n",
    "ν = oderatelaw.(rxs)"
   ]
  },
  {
   "cell_type": "code",
   "execution_count": 7,
   "id": "e2df9144",
   "metadata": {},
   "outputs": [
    {
     "data": {
      "text/plain": [
       "6-element Vector{SymbolicUtils.Add{Real, Int64, Dict{Any, Number}, Nothing}}:\n",
       " γ + Catalyst.hillr(P₃(t), α, K, n) - δ*m₁(t)\n",
       " γ + Catalyst.hillr(P₁(t), α, K, n) - δ*m₂(t)\n",
       " γ + Catalyst.hillr(P₂(t), α, K, n) - δ*m₃(t)\n",
       " β*m₁(t) - μ*P₁(t)\n",
       " β*m₂(t) - μ*P₂(t)\n",
       " β*m₃(t) - μ*P₃(t)"
      ]
     },
     "metadata": {},
     "output_type": "display_data"
    }
   ],
   "source": [
    "osys = convert(ODESystem, repressilator)\n",
    "odes = [eq.rhs for eq in equations(osys)]"
   ]
  },
  {
   "cell_type": "code",
   "execution_count": 8,
   "id": "cfda400f",
   "metadata": {},
   "outputs": [
    {
     "data": {
      "text/plain": [
       "6-element Vector{Any}:\n",
       " γ + Catalyst.hillr(P₃(t), α, K, n) - δ*m₁(t)\n",
       " γ + Catalyst.hillr(P₁(t), α, K, n) - δ*m₂(t)\n",
       " γ + Catalyst.hillr(P₂(t), α, K, n) - δ*m₃(t)\n",
       " β*m₁(t) - μ*P₁(t)\n",
       " β*m₂(t) - μ*P₂(t)\n",
       " β*m₃(t) - μ*P₃(t)"
      ]
     },
     "metadata": {},
     "output_type": "display_data"
    }
   ],
   "source": [
    "\n",
    "odes2 = N * ν"
   ]
  },
  {
   "cell_type": "code",
   "execution_count": 9,
   "id": "54606d72",
   "metadata": {},
   "outputs": [
    {
     "data": {
      "text/plain": [
       "true"
      ]
     },
     "metadata": {},
     "output_type": "display_data"
    }
   ],
   "source": [
    "isequal(odes, odes2)"
   ]
  },
  {
   "cell_type": "markdown",
   "id": "b5e0b587",
   "metadata": {},
   "source": [
    "## Reaction Complex Representation"
   ]
  },
  {
   "cell_type": "code",
   "execution_count": 10,
   "id": "fc0393a6",
   "metadata": {},
   "outputs": [
    {
     "data": {
      "text/latex": [
       "$$ \\begin{align*}\n",
       "\\require{mhchem}\n",
       "\\ce{ 2 A + 3 B &->[$A k$] A + 2 C + D}\\\\\n",
       "\\ce{ C + D &->[$b$] 2 A + 3 B}\n",
       "\\end{align*}\n",
       " $$"
      ],
      "text/plain": [
       "\u001b[0m\u001b[1mModel ##ReactionSystem#291\u001b[22m\n",
       "\u001b[0m\u001b[1mStates (4):\u001b[22m\n",
       "  A(t)\n",
       "  B(t)\n",
       "  C(t)\n",
       "  D(t)\n",
       "\u001b[0m\u001b[1mParameters (2):\u001b[22m\n",
       "  k\n",
       "  b"
      ]
     },
     "metadata": {},
     "output_type": "display_data"
    }
   ],
   "source": [
    "rn = @reaction_network begin\n",
    "    k*A, 2*A + 3*B --> A + 2*C + D \n",
    "    b, C + D --> 2*A + 3*B \n",
    "end k b "
   ]
  },
  {
   "cell_type": "code",
   "execution_count": 11,
   "id": "1262d46e",
   "metadata": {},
   "outputs": [
    {
     "data": {
      "text/plain": [
       "4-element Vector{Term{Real, Base.ImmutableDict{DataType, Any}}}:\n",
       " A(t)\n",
       " B(t)\n",
       " C(t)\n",
       " D(t)"
      ]
     },
     "metadata": {},
     "output_type": "display_data"
    }
   ],
   "source": [
    "species(rn)"
   ]
  },
  {
   "cell_type": "code",
   "execution_count": 12,
   "id": "c33f10f4",
   "metadata": {},
   "outputs": [
    {
     "data": {
      "text/plain": [
       "4×3 Matrix{Int64}:\n",
       " 2  1  0\n",
       " 3  0  0\n",
       " 0  2  1\n",
       " 0  1  1"
      ]
     },
     "metadata": {},
     "output_type": "display_data"
    }
   ],
   "source": [
    "Z = complexstoichmat(rn)"
   ]
  },
  {
   "cell_type": "code",
   "execution_count": 13,
   "id": "87cb0062",
   "metadata": {},
   "outputs": [
    {
     "data": {
      "text/plain": [
       "3×2 Matrix{Int64}:\n",
       " -1   1\n",
       "  1   0\n",
       "  0  -1"
      ]
     },
     "metadata": {},
     "output_type": "display_data"
    }
   ],
   "source": [
    "B = incidencemat(rn)"
   ]
  },
  {
   "cell_type": "code",
   "execution_count": 14,
   "id": "11276afc",
   "metadata": {},
   "outputs": [
    {
     "data": {
      "text/plain": [
       "true"
      ]
     },
     "metadata": {},
     "output_type": "display_data"
    }
   ],
   "source": [
    "N = netstoichmat(rn)\n",
    "N == Z*B"
   ]
  },
  {
   "cell_type": "code",
   "execution_count": 15,
   "id": "573d3043",
   "metadata": {},
   "outputs": [
    {
     "data": {
      "text/plain": [
       "Graph(\"G\", true, \"dot\", Catalyst.Statement[Catalyst.Node(\"<2A + 3B>\", OrderedCollections.OrderedDict{Symbol, Union{Catalyst.Html, String}}(:shape => \"circle\", :color => \"#6C9AC3\")), Catalyst.Node(\"<2C + A + D>\", OrderedCollections.OrderedDict{Symbol, Union{Catalyst.Html, String}}(:shape => \"circle\", :color => \"#6C9AC3\")), Catalyst.Node(\"<C + D>\", OrderedCollections.OrderedDict{Symbol, Union{Catalyst.Html, String}}(:shape => \"circle\", :color => \"#6C9AC3\")), Catalyst.Edge(Catalyst.NodeID[Catalyst.NodeID(\"<2A + 3B>\", \"\", \"\"), Catalyst.NodeID(\"<2C + A + D>\", \"\", \"\")], OrderedCollections.OrderedDict{Symbol, Union{Catalyst.Html, String}}(:color => \"#d91111\", :style => \"dashed\")), Catalyst.Edge(Catalyst.NodeID[Catalyst.NodeID(\"<C + D>\", \"\", \"\"), Catalyst.NodeID(\"<2A + 3B>\", \"\", \"\")], OrderedCollections.OrderedDict{Symbol, Union{Catalyst.Html, String}}())], OrderedCollections.OrderedDict{Symbol, Union{Catalyst.Html, String}}(:rankdir => \"LR\"), OrderedCollections.OrderedDict{Symbol, Union{Catalyst.Html, String}}(:shape => \"plain\", :style => \"filled\", :color => \"white\"), OrderedCollections.OrderedDict{Symbol, Union{Catalyst.Html, String}}(:splines => \"splines\"))"
      ]
     },
     "metadata": {},
     "output_type": "display_data"
    }
   ],
   "source": [
    "complexgraph(rn)"
   ]
  },
  {
   "cell_type": "code",
   "execution_count": 27,
   "id": "198a9475",
   "metadata": {},
   "outputs": [
    {
     "data": {
      "text/plain": [
       "Graph(\"G\", true, \"dot\", Catalyst.Statement[Catalyst.Node(\"<∅>\", OrderedCollections.OrderedDict{Symbol, Union{Catalyst.Html, String}}(:shape => \"circle\", :color => \"#6C9AC3\")), Catalyst.Node(\"<m₁>\", OrderedCollections.OrderedDict{Symbol, Union{Catalyst.Html, String}}(:shape => \"circle\", :color => \"#6C9AC3\")), Catalyst.Node(\"<m₂>\", OrderedCollections.OrderedDict{Symbol, Union{Catalyst.Html, String}}(:shape => \"circle\", :color => \"#6C9AC3\")), Catalyst.Node(\"<m₃>\", OrderedCollections.OrderedDict{Symbol, Union{Catalyst.Html, String}}(:shape => \"circle\", :color => \"#6C9AC3\")), Catalyst.Node(\"<P₁ + m₁>\", OrderedCollections.OrderedDict{Symbol, Union{Catalyst.Html, String}}(:shape => \"circle\", :color => \"#6C9AC3\")), Catalyst.Node(\"<P₂ + m₂>\", OrderedCollections.OrderedDict{Symbol, Union{Catalyst.Html, String}}(:shape => \"circle\", :color => \"#6C9AC3\")), Catalyst.Node(\"<P₃ + m₃>\", OrderedCollections.OrderedDict{Symbol, Union{Catalyst.Html, String}}(:shape => \"circle\", :color => \"#6C9AC3\")), Catalyst.Node(\"<P₁>\", OrderedCollections.OrderedDict{Symbol, Union{Catalyst.Html, String}}(:shape => \"circle\", :color => \"#6C9AC3\")), Catalyst.Node(\"<P₂>\", OrderedCollections.OrderedDict{Symbol, Union{Catalyst.Html, String}}(:shape => \"circle\", :color => \"#6C9AC3\")), Catalyst.Node(\"<P₃>\", OrderedCollections.OrderedDict{Symbol, Union{Catalyst.Html, String}}(:shape => \"circle\", :color => \"#6C9AC3\"))  …  Catalyst.Edge(Catalyst.NodeID[Catalyst.NodeID(\"<m₂>\", \"\", \"\"), Catalyst.NodeID(\"<∅>\", \"\", \"\")], OrderedCollections.OrderedDict{Symbol, Union{Catalyst.Html, String}}()), Catalyst.Edge(Catalyst.NodeID[Catalyst.NodeID(\"<∅>\", \"\", \"\"), Catalyst.NodeID(\"<m₂>\", \"\", \"\")], OrderedCollections.OrderedDict{Symbol, Union{Catalyst.Html, String}}()), Catalyst.Edge(Catalyst.NodeID[Catalyst.NodeID(\"<m₃>\", \"\", \"\"), Catalyst.NodeID(\"<∅>\", \"\", \"\")], OrderedCollections.OrderedDict{Symbol, Union{Catalyst.Html, String}}()), Catalyst.Edge(Catalyst.NodeID[Catalyst.NodeID(\"<∅>\", \"\", \"\"), Catalyst.NodeID(\"<m₃>\", \"\", \"\")], OrderedCollections.OrderedDict{Symbol, Union{Catalyst.Html, String}}()), Catalyst.Edge(Catalyst.NodeID[Catalyst.NodeID(\"<m₁>\", \"\", \"\"), Catalyst.NodeID(\"<P₁ + m₁>\", \"\", \"\")], OrderedCollections.OrderedDict{Symbol, Union{Catalyst.Html, String}}()), Catalyst.Edge(Catalyst.NodeID[Catalyst.NodeID(\"<m₂>\", \"\", \"\"), Catalyst.NodeID(\"<P₂ + m₂>\", \"\", \"\")], OrderedCollections.OrderedDict{Symbol, Union{Catalyst.Html, String}}()), Catalyst.Edge(Catalyst.NodeID[Catalyst.NodeID(\"<m₃>\", \"\", \"\"), Catalyst.NodeID(\"<P₃ + m₃>\", \"\", \"\")], OrderedCollections.OrderedDict{Symbol, Union{Catalyst.Html, String}}()), Catalyst.Edge(Catalyst.NodeID[Catalyst.NodeID(\"<P₁>\", \"\", \"\"), Catalyst.NodeID(\"<∅>\", \"\", \"\")], OrderedCollections.OrderedDict{Symbol, Union{Catalyst.Html, String}}()), Catalyst.Edge(Catalyst.NodeID[Catalyst.NodeID(\"<P₂>\", \"\", \"\"), Catalyst.NodeID(\"<∅>\", \"\", \"\")], OrderedCollections.OrderedDict{Symbol, Union{Catalyst.Html, String}}()), Catalyst.Edge(Catalyst.NodeID[Catalyst.NodeID(\"<P₃>\", \"\", \"\"), Catalyst.NodeID(\"<∅>\", \"\", \"\")], OrderedCollections.OrderedDict{Symbol, Union{Catalyst.Html, String}}())], OrderedCollections.OrderedDict{Symbol, Union{Catalyst.Html, String}}(:rankdir => \"LR\"), OrderedCollections.OrderedDict{Symbol, Union{Catalyst.Html, String}}(:shape => \"plain\", :style => \"filled\", :color => \"white\"), OrderedCollections.OrderedDict{Symbol, Union{Catalyst.Html, String}}(:splines => \"splines\"))"
      ]
     },
     "metadata": {},
     "output_type": "display_data"
    }
   ],
   "source": [
    "complexgraph(repressilator)"
   ]
  },
  {
   "cell_type": "markdown",
   "id": "db34465f",
   "metadata": {},
   "source": [
    "## Aspects of Reaction Network Structure"
   ]
  },
  {
   "cell_type": "code",
   "execution_count": 28,
   "id": "23bcb556",
   "metadata": {},
   "outputs": [
    {
     "data": {
      "text/latex": [
       "$$ \\begin{align*}\n",
       "\\require{mhchem}\n",
       "\\ce{ A + B &<=>[$k1$][$k2$] C}\\\\\n",
       "\\ce{ C &->[$k3$] D + E}\\\\\n",
       "\\ce{ D + E &<=>[$k4$][$k5$] F}\\\\\n",
       "\\ce{ 2 A &<=>[$k6$][$k7$] B + G}\\\\\n",
       "\\ce{ B + G &->[$k8$] H}\\\\\n",
       "\\ce{ H &->[$k9$] 2 A}\n",
       "\\end{align*}\n",
       " $$"
      ],
      "text/plain": [
       "\u001b[0m\u001b[1mModel ##ReactionSystem#292\u001b[22m\n",
       "\u001b[0m\u001b[1mStates (8):\u001b[22m\n",
       "  A(t)\n",
       "  B(t)\n",
       "  C(t)\n",
       "  D(t)\n",
       "⋮\n",
       "\u001b[0m\u001b[1mParameters (9):\u001b[22m\n",
       "  k1\n",
       "  k2\n",
       "  k3\n",
       "  k4\n",
       "⋮"
      ]
     },
     "metadata": {},
     "output_type": "display_data"
    }
   ],
   "source": [
    "rn = @reaction_network begin\n",
    "    (k1, k2), A + B <--> C\n",
    "    k3, C --> D+E\n",
    "     (k4,k5), D+E <--> F\n",
    "     (k6,k7), 2A <--> B+G\n",
    "     k8, B+G --> H\n",
    "     k9, H --> 2A\n",
    "end k1 k2 k3 k4 k5 k6 k7 k8 k9"
   ]
  },
  {
   "cell_type": "code",
   "execution_count": 29,
   "id": "08ad7256",
   "metadata": {},
   "outputs": [
    {
     "data": {
      "text/plain": [
       "Graph(\"G\", true, \"dot\", Catalyst.Statement[Catalyst.Node(\"<A + B>\", OrderedCollections.OrderedDict{Symbol, Union{Catalyst.Html, String}}(:shape => \"circle\", :color => \"#6C9AC3\")), Catalyst.Node(\"<C>\", OrderedCollections.OrderedDict{Symbol, Union{Catalyst.Html, String}}(:shape => \"circle\", :color => \"#6C9AC3\")), Catalyst.Node(\"<D + E>\", OrderedCollections.OrderedDict{Symbol, Union{Catalyst.Html, String}}(:shape => \"circle\", :color => \"#6C9AC3\")), Catalyst.Node(\"<F>\", OrderedCollections.OrderedDict{Symbol, Union{Catalyst.Html, String}}(:shape => \"circle\", :color => \"#6C9AC3\")), Catalyst.Node(\"<2A>\", OrderedCollections.OrderedDict{Symbol, Union{Catalyst.Html, String}}(:shape => \"circle\", :color => \"#6C9AC3\")), Catalyst.Node(\"<B + G>\", OrderedCollections.OrderedDict{Symbol, Union{Catalyst.Html, String}}(:shape => \"circle\", :color => \"#6C9AC3\")), Catalyst.Node(\"<H>\", OrderedCollections.OrderedDict{Symbol, Union{Catalyst.Html, String}}(:shape => \"circle\", :color => \"#6C9AC3\")), Catalyst.Edge(Catalyst.NodeID[Catalyst.NodeID(\"<A + B>\", \"\", \"\"), Catalyst.NodeID(\"<C>\", \"\", \"\")], OrderedCollections.OrderedDict{Symbol, Union{Catalyst.Html, String}}()), Catalyst.Edge(Catalyst.NodeID[Catalyst.NodeID(\"<C>\", \"\", \"\"), Catalyst.NodeID(\"<A + B>\", \"\", \"\")], OrderedCollections.OrderedDict{Symbol, Union{Catalyst.Html, String}}()), Catalyst.Edge(Catalyst.NodeID[Catalyst.NodeID(\"<C>\", \"\", \"\"), Catalyst.NodeID(\"<D + E>\", \"\", \"\")], OrderedCollections.OrderedDict{Symbol, Union{Catalyst.Html, String}}()), Catalyst.Edge(Catalyst.NodeID[Catalyst.NodeID(\"<D + E>\", \"\", \"\"), Catalyst.NodeID(\"<F>\", \"\", \"\")], OrderedCollections.OrderedDict{Symbol, Union{Catalyst.Html, String}}()), Catalyst.Edge(Catalyst.NodeID[Catalyst.NodeID(\"<F>\", \"\", \"\"), Catalyst.NodeID(\"<D + E>\", \"\", \"\")], OrderedCollections.OrderedDict{Symbol, Union{Catalyst.Html, String}}()), Catalyst.Edge(Catalyst.NodeID[Catalyst.NodeID(\"<2A>\", \"\", \"\"), Catalyst.NodeID(\"<B + G>\", \"\", \"\")], OrderedCollections.OrderedDict{Symbol, Union{Catalyst.Html, String}}()), Catalyst.Edge(Catalyst.NodeID[Catalyst.NodeID(\"<B + G>\", \"\", \"\"), Catalyst.NodeID(\"<2A>\", \"\", \"\")], OrderedCollections.OrderedDict{Symbol, Union{Catalyst.Html, String}}()), Catalyst.Edge(Catalyst.NodeID[Catalyst.NodeID(\"<B + G>\", \"\", \"\"), Catalyst.NodeID(\"<H>\", \"\", \"\")], OrderedCollections.OrderedDict{Symbol, Union{Catalyst.Html, String}}()), Catalyst.Edge(Catalyst.NodeID[Catalyst.NodeID(\"<H>\", \"\", \"\"), Catalyst.NodeID(\"<2A>\", \"\", \"\")], OrderedCollections.OrderedDict{Symbol, Union{Catalyst.Html, String}}())], OrderedCollections.OrderedDict{Symbol, Union{Catalyst.Html, String}}(:rankdir => \"LR\"), OrderedCollections.OrderedDict{Symbol, Union{Catalyst.Html, String}}(:shape => \"plain\", :style => \"filled\", :color => \"white\"), OrderedCollections.OrderedDict{Symbol, Union{Catalyst.Html, String}}(:splines => \"splines\"))"
      ]
     },
     "metadata": {},
     "output_type": "display_data"
    }
   ],
   "source": [
    "complexgraph(rn)"
   ]
  },
  {
   "cell_type": "markdown",
   "id": "4397e039",
   "metadata": {},
   "source": [
    "## Linkage classes and sub-networks of the reaction network"
   ]
  },
  {
   "cell_type": "code",
   "execution_count": null,
   "id": "c75c0a4b",
   "metadata": {},
   "outputs": [],
   "source": []
  }
 ],
 "metadata": {
  "kernelspec": {
   "display_name": "Julia 1.7.3",
   "language": "julia",
   "name": "julia-1.7"
  },
  "language_info": {
   "file_extension": ".jl",
   "mimetype": "application/julia",
   "name": "julia",
   "version": "1.7.3"
  }
 },
 "nbformat": 4,
 "nbformat_minor": 5
}
