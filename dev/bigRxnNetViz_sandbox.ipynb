{
 "cells": [
  {
   "cell_type": "markdown",
   "id": "d88b6e36-ad7e-423f-8fec-e28b187cbcb6",
   "metadata": {},
   "source": [
    "# Big Reaction Network Visualization Sandbox"
   ]
  },
  {
   "cell_type": "markdown",
   "id": "0ec39bd2-0d2d-4309-a594-a4ec0ad08a20",
   "metadata": {},
   "source": [
    "### Import dependencies"
   ]
  },
  {
   "cell_type": "code",
   "execution_count": 1,
   "id": "0e19d4e8-a5c0-4e10-86e3-5c92a63fcbce",
   "metadata": {},
   "outputs": [],
   "source": [
    "using Catalyst\n",
    "using Graphs\n",
    "using LinearAlgebra\n",
    "\n",
    "using GraphPlot\n",
    "using Plots\n",
    "\n",
    "# load test reaction network\n",
    "include(\"../data/mcm_3-2.jl\");"
   ]
  },
  {
   "cell_type": "code",
   "execution_count": 2,
   "id": "386c201f-1746-4ab2-b822-0f1b7f027714",
   "metadata": {},
   "outputs": [],
   "source": [
    "## Takes too long\n",
    "# Graph(test_rn)"
   ]
  },
  {
   "cell_type": "code",
   "execution_count": 3,
   "id": "2590dfe4-4a26-46b3-b503-76b1964d95e4",
   "metadata": {},
   "outputs": [
    {
     "data": {
      "text/plain": [
       "5733"
      ]
     },
     "execution_count": 3,
     "metadata": {},
     "output_type": "execute_result"
    }
   ],
   "source": [
    "# reactionparams(test_rn)\n",
    "nspecs = numspecies(test_rn)"
   ]
  },
  {
   "cell_type": "code",
   "execution_count": 4,
   "id": "5e2bfe15-1cbd-403b-bdef-8438aaf16e77",
   "metadata": {},
   "outputs": [
    {
     "data": {
      "text/plain": [
       "16404"
      ]
     },
     "execution_count": 4,
     "metadata": {},
     "output_type": "execute_result"
    }
   ],
   "source": [
    "numreactions(test_rn)"
   ]
  },
  {
   "cell_type": "code",
   "execution_count": 5,
   "id": "2d7e77b8-a544-48dc-b1aa-1e879bb7ea71",
   "metadata": {},
   "outputs": [
    {
     "data": {
      "text/plain": [
       "0"
      ]
     },
     "execution_count": 5,
     "metadata": {},
     "output_type": "execute_result"
    }
   ],
   "source": [
    "numreactionparams(test_rn)"
   ]
  },
  {
   "cell_type": "code",
   "execution_count": 6,
   "id": "5cb27ddb-b46a-4c99-a86d-8ca0342c8d0c",
   "metadata": {},
   "outputs": [],
   "source": [
    "specs = species(test_rn);"
   ]
  },
  {
   "cell_type": "markdown",
   "id": "c8ff39a1-9aaa-4b16-ad51-11a1e87192ea",
   "metadata": {},
   "source": [
    "### Reaction Complexes"
   ]
  },
  {
   "cell_type": "code",
   "execution_count": 7,
   "id": "731ae1dc-d07e-41e2-903d-07a680cda803",
   "metadata": {},
   "outputs": [],
   "source": [
    "# smap=speciesmap(test_rn);\n",
    "reactioncomplexmap(test_rn);"
   ]
  },
  {
   "cell_type": "code",
   "execution_count": 8,
   "id": "cc591876-5c31-428e-ba04-2841964c0b64",
   "metadata": {},
   "outputs": [],
   "source": [
    "# vector of rxn complexes and an incidence matrix (maps complexes to reactions)\n",
    "v, B = reactioncomplexes(test_rn; sparse=true);"
   ]
  },
  {
   "cell_type": "code",
   "execution_count": 43,
   "id": "a2cd4d58-df71-4fa0-8e83-5a8d15fc7e68",
   "metadata": {},
   "outputs": [
    {
     "data": {
      "text/plain": [
       "()"
      ]
     },
     "execution_count": 43,
     "metadata": {},
     "output_type": "execute_result"
    }
   ],
   "source": []
  },
  {
   "cell_type": "code",
   "execution_count": 9,
   "id": "3ba9f3ab-f14f-4874-b0da-cba9d2991885",
   "metadata": {},
   "outputs": [
    {
     "data": {
      "text/plain": [
       "1-element Vector{Int64}:\n",
       " 1"
      ]
     },
     "execution_count": 9,
     "metadata": {},
     "output_type": "execute_result"
    }
   ],
   "source": [
    "# v[1][1].speciesstoich\n",
    "\n",
    "v[1].speciesids"
   ]
  },
  {
   "cell_type": "code",
   "execution_count": 10,
   "id": "8391cd37-fb8a-4257-9f8e-62111abf1975",
   "metadata": {},
   "outputs": [],
   "source": [
    "# matrix mapping species to reaction complexes\n",
    "s2c_mat = complexstoichmat(test_rn; sparse=true);"
   ]
  },
  {
   "cell_type": "code",
   "execution_count": 11,
   "id": "99b98182-8a89-4f0b-b2ef-bfa9488d441a",
   "metadata": {},
   "outputs": [],
   "source": [
    "# matrix mapping species to reactions\n",
    "s2r_mat = complexoutgoingmat(test_rn; sparse=true);"
   ]
  },
  {
   "cell_type": "code",
   "execution_count": 12,
   "id": "f5108200-ae14-43c9-b2f2-e036a2b6da2b",
   "metadata": {},
   "outputs": [],
   "source": [
    "# sir = @reaction_network SIR begin\n",
    "#     β, S + I --> 2I\n",
    "#     ν, I --> R\n",
    "# end β ν\n",
    "# rcs,incidencemat = reactioncomplexes(sir)\n",
    "# incidencegraph   = incidencematgraph(incidencemat)\n",
    "\n",
    "# gplot(incidencegraph);"
   ]
  },
  {
   "cell_type": "code",
   "execution_count": 13,
   "id": "566b06dd-eccd-4ec9-bccb-b6abdf0f7759",
   "metadata": {},
   "outputs": [],
   "source": [
    "# # top substrates\n",
    "# minval, minindx = findmin(sum(B, dims=2))\n",
    "# println(\"Most prevalent substrate: \", string(specs[v[minindx].speciesids][1]))\n",
    "\n",
    "# # # top products\n",
    "# maxval, maxindx = findmax(sum(B, dims=2))\n",
    "# println(\"Most prevalent product: \", string(specs[v[maxindx].speciesids][1]))"
   ]
  },
  {
   "cell_type": "code",
   "execution_count": 14,
   "id": "51438cb8-7563-409f-8332-d8c7c5727ad5",
   "metadata": {},
   "outputs": [
    {
     "name": "stdout",
     "output_type": "stream",
     "text": [
      "Top 7 substrates: \n",
      " - TM123BPRO(t)\n",
      " - OH(t)\n",
      " - OH(t)\n",
      " - OH(t)\n",
      " - CL(t)\n",
      " - OH(t)\n",
      " - OH(t)\n",
      "\n",
      "Top 7 products: \n",
      " - OH(t)\n",
      " - NO2(t)\n",
      " - NO2(t)\n",
      " - NO2(t)\n",
      " - NO2(t)\n",
      " - CO(t)\n",
      " - HO2(t)\n"
     ]
    }
   ],
   "source": [
    "isorted = sortperm(sum(B, dims=2)[:,1])\n",
    "n = 7\n",
    "\n",
    "# top n substrates\n",
    "println(\"Top \",string(n),\" substrates: \")\n",
    "for i = 1:n\n",
    "    println(\" - \",string(specs[v[isorted[i]].speciesids][1]))\n",
    "end\n",
    "println(\"\")\n",
    "# top n products\n",
    "numComplexes = size(B)[1]\n",
    "println(\"Top \",string(n),\" products: \")\n",
    "for i = 1:n\n",
    "    println(\" - \",string(specs[v[isorted[numComplexes+1-i]].speciesids][1]))\n",
    "end"
   ]
  },
  {
   "cell_type": "code",
   "execution_count": 15,
   "id": "606a908d-900b-4833-a006-6962d2f34a16",
   "metadata": {
    "tags": []
   },
   "outputs": [],
   "source": [
    "# g = complexgraph(test_rn);\n",
    "# savegraph(g, \"complexnet\")"
   ]
  },
  {
   "cell_type": "markdown",
   "id": "b709f186-39af-49eb-856d-c5e911b396b7",
   "metadata": {},
   "source": [
    "### Graphs"
   ]
  },
  {
   "cell_type": "code",
   "execution_count": 16,
   "id": "9c4d2b22-4c11-4f62-a7fc-13d6d11a55dd",
   "metadata": {},
   "outputs": [],
   "source": [
    "# # create \"random\" adjacency matrix\n",
    "# threshold = 0.5; # define threshold\n",
    "# A = vcat(hcat(10*rand(4,4), rand(4,4)), hcat(rand(4,4), rand(4,4)));\n",
    "# # A = rand(8,8)\n",
    "# A = A - 10*I(8);\n",
    "# A = round.(Int, A)\n",
    "# A = A'*A;\n",
    "# A[findall(A .< threshold)] .= 0;\n",
    "# A[findall(A .> threshold)] .= 1;\n",
    "# A = A - I(8);"
   ]
  },
  {
   "cell_type": "code",
   "execution_count": 17,
   "id": "63727233-1b12-454c-b117-4fccd1b1de42",
   "metadata": {},
   "outputs": [],
   "source": [
    "# # create graph using Graph.jl\n",
    "# G = SimpleGraph(A)\n",
    "# gplot(G)"
   ]
  },
  {
   "cell_type": "code",
   "execution_count": 18,
   "id": "1ec78076-8840-4fc8-a1b5-a11bf783a76b",
   "metadata": {
    "jupyter": {
     "source_hidden": true
    },
    "tags": []
   },
   "outputs": [],
   "source": [
    "# function to create adjacency matrix such that nodes are species and edges exist between species if they appear together in a reaction\n",
    "function mkAdjMat(test_rn)\n",
    "\n",
    "    nspecs = numspecies(test_rn)\n",
    "    specs = species(test_rn);\n",
    "\n",
    "    # initialize adjacency matrix\n",
    "    A = convert.(Int, zeros(nspecs,nspecs));\n",
    "\n",
    "    for rxn = reactions(test_rn)\n",
    "        # define vector with all species\n",
    "        rxn_species = vcat(rxn.substrates, rxn.products)\n",
    "\n",
    "        # intialize vector to store indicies of species that appear in current reaction\n",
    "        rxn_species_indexes = []\n",
    "        # loop through species\n",
    "        for spec in rxn_species\n",
    "            # find corresponding index for current species\n",
    "            rxn_species_indexes = vcat(rxn_species_indexes, findall(x -> x==string(spec), string.(specs)))\n",
    "        end\n",
    "\n",
    "        # loop through indicies and update adajcency matrix such that an edge is added between all species in reaction\n",
    "        for i in rxn_species_indexes\n",
    "            for j in rxn_species_indexes\n",
    "                if i==j\n",
    "                    continue\n",
    "                end\n",
    "                if j<i\n",
    "                    continue\n",
    "                end\n",
    "\n",
    "                A[i,j] =  A[i,j] + 1;\n",
    "                A[j,i] =  A[j,i] + 1;\n",
    "            end\n",
    "            \n",
    "            if i ==100 \n",
    "                break\n",
    "            end\n",
    "        end\n",
    "        \n",
    "        # print(rxn.species)\n",
    "        \n",
    "    end\n",
    "    \n",
    "    return A\n",
    "end;"
   ]
  },
  {
   "cell_type": "code",
   "execution_count": 19,
   "id": "cd833a00-f21c-48d5-b614-e1b7b8018229",
   "metadata": {},
   "outputs": [
    {
     "name": "stdout",
     "output_type": "stream",
     "text": [
      "433.674505 seconds (5.09 G allocations: 201.079 GiB, 3.04% gc time, 0.07% compilation time)\n"
     ]
    },
    {
     "data": {
      "text/plain": [
       "5733×5733 Matrix{Int64}:\n",
       " 0    3     3     5     2  1  0     0  …  0  0  0  0  0  0  0  0  0  0  0  0\n",
       " 3    0     1     2     2  1  0    10     0  0  0  0  0  0  0  0  0  0  0  0\n",
       " 3    1     0  1257     3  0  0     6     0  0  0  1  1  2  0  0  0  0  0  1\n",
       " 5    2  1257     0  1259  0  2   743     0  1  0  4  4  4  0  3  0  3  0  2\n",
       " 2    2     3  1259     0  0  2    17     0  0  1  1  2  2  0  0  0  0  0  1\n",
       " 1    1     0     0     0  0  0     1  …  0  0  0  0  0  0  0  0  0  0  0  0\n",
       " 0    0     0     2     2  0  0     0     0  0  0  0  0  0  0  0  0  0  0  0\n",
       " 0   10     6   743    17  1  0     0     1  4  2  3  3  3  2  1  2  1  2  1\n",
       " 0  178    53   194    57  0  0  1066     1  2  2  2  2  3  1  0  1  0  1  0\n",
       " 0    0     0     0     0  0  0     1     0  0  0  0  0  0  0  0  0  0  0  0\n",
       " 0    6    21   343    53  0  0   510  …  0  2  1  0  0  1  0  1  0  0  0  1\n",
       " 0    0     0     0     0  0  0     2     0  0  0  0  0  0  0  0  0  0  0  0\n",
       " 0    0     2     1     0  0  0     3     0  0  0  0  0  0  0  0  0  0  0  0\n",
       " ⋮                         ⋮           ⋱              ⋮              ⋮     \n",
       " 0    0     0     0     0  0  0     1     0  0  0  0  0  0  0  0  0  0  0  0\n",
       " 0    0     0     1     0  0  0     4     0  0  0  1  0  0  0  0  0  0  0  0\n",
       " 0    0     0     0     1  0  0     2     0  0  0  0  2  1  0  0  0  0  0  0\n",
       " 0    0     1     4     1  0  0     3     0  1  0  0  0  0  2  2  0  0  0  0\n",
       " 0    0     1     4     2  0  0     3  …  0  0  2  0  0  4  0  0  2  2  0  0\n",
       " 0    0     2     4     2  0  0     3     0  0  1  0  4  0  0  0  1  0  2  3\n",
       " 0    0     0     0     0  0  0     2     0  0  0  2  0  0  0  0  0  0  0  0\n",
       " 0    0     0     3     0  0  0     1     0  0  0  2  0  0  0  0  0  0  0  0\n",
       " 0    0     0     0     0  0  0     2     0  0  0  0  2  1  0  0  0  0  0  0\n",
       " 0    0     0     3     0  0  0     1  …  0  0  0  0  2  0  0  0  0  0  0  0\n",
       " 0    0     0     0     0  0  0     2     0  0  0  0  0  2  0  0  0  0  0  1\n",
       " 0    0     1     2     1  0  0     1     0  0  0  0  0  3  0  0  0  0  1  0"
      ]
     },
     "execution_count": 19,
     "metadata": {},
     "output_type": "execute_result"
    }
   ],
   "source": [
    "@time A = mkAdjMat(test_rn)"
   ]
  },
  {
   "cell_type": "code",
   "execution_count": 20,
   "id": "40493958-f649-4829-83ab-d835c1626d4c",
   "metadata": {},
   "outputs": [],
   "source": [
    "# A[1:10,1:10]"
   ]
  },
  {
   "cell_type": "code",
   "execution_count": 21,
   "id": "9fc991e4-ae58-45e9-9e84-c2786573e1ad",
   "metadata": {},
   "outputs": [
    {
     "data": {
      "text/plain": [
       "{5733, 35050} undirected simple Int64 graph"
      ]
     },
     "execution_count": 21,
     "metadata": {},
     "output_type": "execute_result"
    }
   ],
   "source": [
    "# create graph using Graph.jl\n",
    "G = SimpleGraph(A)"
   ]
  },
  {
   "cell_type": "code",
   "execution_count": 22,
   "id": "4cbadb18-3770-423b-a654-51973cd4acd7",
   "metadata": {},
   "outputs": [],
   "source": [
    "# # plot graph\n",
    "# @time gplot(G)"
   ]
  },
  {
   "cell_type": "markdown",
   "id": "233d3791-0965-466f-85ed-eb443381fb19",
   "metadata": {},
   "source": [
    "### Centrality"
   ]
  },
  {
   "cell_type": "code",
   "execution_count": 23,
   "id": "626f4569-9830-4263-82cd-2cbec00656d8",
   "metadata": {},
   "outputs": [
    {
     "name": "stdout",
     "output_type": "stream",
     "text": [
      "  5.729687 seconds (59.88 M allocations: 9.036 GiB, 10.23% gc time, 2.22% compilation time)\n",
      "Top 7 species based on betweenness centrality: \n",
      " - O1D(t)\n",
      " - NO(t)\n",
      " - NO(t)\n",
      " - O3(t)\n",
      " - TC4H9O(t)\n",
      " - BUTALO2(t)\n",
      " - OH(t)\n"
     ]
    }
   ],
   "source": [
    "@time bet_cen = betweenness_centrality(G);\n",
    "\n",
    "# plot(bet_cen)\n",
    "\n",
    "isorted = sortperm(bet_cen)\n",
    "n = 7\n",
    "# top n species\n",
    "println(\"Top \",string(n),\" species based on betweenness centrality: \")\n",
    "for i = 1:n\n",
    "    println(\" - \",string(specs[v[isorted[i]].speciesids][1]))\n",
    "end"
   ]
  },
  {
   "cell_type": "code",
   "execution_count": 24,
   "id": "a813ddf8-076a-4513-b067-b57f6130099b",
   "metadata": {},
   "outputs": [
    {
     "name": "stdout",
     "output_type": "stream",
     "text": [
      "  0.010541 seconds (22.65 k allocations: 1.295 MiB, 99.68% compilation time)\n",
      "Top 7 species based on degree centrality: \n",
      " - O3(t)\n",
      " - IPEBOOH(t)\n",
      " - OH(t)\n",
      " - CH3CHO(t)\n",
      " - OH(t)\n",
      " - NO3(t)\n",
      " - OH(t)\n"
     ]
    }
   ],
   "source": [
    "@time deg_cen = degree_centrality(G);\n",
    "\n",
    "# plot(deg_cen);\n",
    "\n",
    "isorted = sortperm(deg_cen)\n",
    "n = 7\n",
    "# top n species\n",
    "println(\"Top \",string(n),\" species based on degree centrality: \")\n",
    "for i = 1:n\n",
    "    println(\" - \",string(specs[v[isorted[i]].speciesids][1]))\n",
    "end"
   ]
  },
  {
   "cell_type": "code",
   "execution_count": 25,
   "id": "131a2d35-8684-45de-9a14-420718fbe1c6",
   "metadata": {},
   "outputs": [
    {
     "name": "stdout",
     "output_type": "stream",
     "text": [
      "  2.832283 seconds (18.65 M allocations: 918.957 MiB, 4.12% gc time, 99.87% compilation time)\n",
      "Top 7 species based on eigenvector centrality: \n",
      " - IPEBOOH(t)\n",
      " - O3(t)\n",
      " - OH(t)\n",
      " - CL(t)\n",
      " - NO(t)\n",
      " - OH(t)\n",
      " - OH(t)\n"
     ]
    }
   ],
   "source": [
    "@time eig_cen = eigenvector_centrality(G);\n",
    "\n",
    "isorted = sortperm(eig_cen)\n",
    "n = 7\n",
    "# top n species\n",
    "println(\"Top \",string(n),\" species based on eigenvector centrality: \")\n",
    "for i = 1:n\n",
    "    println(\" - \",string(specs[v[isorted[i]].speciesids][1]))\n",
    "end"
   ]
  },
  {
   "cell_type": "code",
   "execution_count": 26,
   "id": "2da50baf-d5f5-4b47-9459-3ce31bf7d9d0",
   "metadata": {},
   "outputs": [
    {
     "name": "stdout",
     "output_type": "stream",
     "text": [
      "  0.947263 seconds (4.96 M allocations: 276.464 MiB, 98.80% compilation time)\n",
      "Top 7 species based on katz centrality: \n",
      " - OH(t)\n",
      " - NO2(t)\n",
      " - HO2(t)\n",
      " - NO3(t)\n",
      " - NO(t)\n",
      " - MPRKBOOH(t)\n",
      " - EGLYOX(t)\n"
     ]
    }
   ],
   "source": [
    "@time kat_cen = katz_centrality(G, 0.3);\n",
    "\n",
    "isorted = sortperm(kat_cen)\n",
    "n = 7\n",
    "# top n species\n",
    "println(\"Top \",string(n),\" species based on katz centrality: \")\n",
    "for i = 1:n\n",
    "    println(\" - \",string(specs[v[isorted[i]].speciesids][1]))\n",
    "end"
   ]
  },
  {
   "cell_type": "code",
   "execution_count": 27,
   "id": "41c09036-0601-46a9-85d4-5451e6e42896",
   "metadata": {
    "tags": []
   },
   "outputs": [],
   "source": [
    "# # visualize sparse network\n",
    "# https://juliagraphs.org/Graphs.jl/dev/first_steps/plotting/\n",
    "# https://fcdimitr.github.io/SGtSNEpi.jl/stable/\n",
    "\n",
    "# # example visualizing large sparse network\n",
    "# GLMakie.activate!()\n",
    "\n",
    "# # error with imports!\n",
    "# using GLMakie\n",
    "# using SGtSNEpi\n",
    "# using SNAPDatasets\n",
    "\n",
    "# g = loadsnap(:as_caida)\n",
    "# y = sgtsnepi(g);\n",
    "# show_embedding(y;\n",
    "#   A = adjacency_matrix(g),        # show edges on embedding\n",
    "#   mrk_size = 1,                   # control node sizes\n",
    "#   lwd_in = 0.01, lwd_out = 0.001, # control edge widths\n",
    "#   edge_alpha = 0.03 )             # control edge transparency"
   ]
  },
  {
   "cell_type": "markdown",
   "id": "d859684a-8c66-4195-b513-27aace21d742",
   "metadata": {},
   "source": [
    "### Community Detection"
   ]
  },
  {
   "cell_type": "code",
   "execution_count": 32,
   "id": "a912876d-2500-4257-af54-ea377fe9d922",
   "metadata": {},
   "outputs": [
    {
     "name": "stdout",
     "output_type": "stream",
     "text": [
      "  0.576849 seconds (481.39 k allocations: 50.903 MiB, 6.65% gc time)\n"
     ]
    },
    {
     "data": {
      "text/plain": [
       "15-element Vector{Any}:\n",
       " O3(t)\n",
       " NO(t)\n",
       " NO2(t)\n",
       " NO3(t)\n",
       " OH(t)\n",
       " HO2(t)\n",
       " CO(t)\n",
       " HCHO(t)\n",
       " CH3CHO(t)\n",
       " C2H5CHO(t)\n",
       " CH3COCH3(t)\n",
       " CH3CO3(t)\n",
       " C2H5CO3(t)\n",
       " GLYOX(t)\n",
       " MGLYOX(t)"
      ]
     },
     "execution_count": 32,
     "metadata": {},
     "output_type": "execute_result"
    }
   ],
   "source": [
    "@time cliqPer_output = clique_percolation(G, k=14);\n",
    "\n",
    "specs[Int.(cliqPer_output[1])]"
   ]
  },
  {
   "cell_type": "code",
   "execution_count": 33,
   "id": "819d92e2-6233-431e-bf1a-dfa665ac390a",
   "metadata": {},
   "outputs": [
    {
     "name": "stdout",
     "output_type": "stream",
     "text": [
      "  0.000372 seconds (8 allocations: 134.984 KiB)\n",
      "Core species:\n"
     ]
    },
    {
     "data": {
      "text/plain": [
       "41-element Vector{Any}:\n",
       " O3(t)\n",
       " NO(t)\n",
       " NO2(t)\n",
       " NO3(t)\n",
       " OH(t)\n",
       " HO2(t)\n",
       " CO(t)\n",
       " H2O2(t)\n",
       " HNO3(t)\n",
       " SO2(t)\n",
       " SO3(t)\n",
       " HCHO(t)\n",
       " CH3CHO(t)\n",
       " ⋮\n",
       " CO3C4CHO(t)\n",
       " CO2H3CHO(t)\n",
       " EPXC4DIAL(t)\n",
       " BIACET(t)\n",
       " EGLYOX(t)\n",
       " HOC2H4CO3(t)\n",
       " HCOCO2H(t)\n",
       " C5DICARB(t)\n",
       " C33CO(t)\n",
       " CH3COCO2H(t)\n",
       " HCOCH2CO3(t)\n",
       " HCOCH2CHO(t)"
      ]
     },
     "execution_count": 33,
     "metadata": {},
     "output_type": "execute_result"
    }
   ],
   "source": [
    "@time corePeri_output = core_periphery_deg(G)\n",
    "\n",
    "println(\"Core species:\")\n",
    "specs[corePeri_output.==1]"
   ]
  },
  {
   "cell_type": "code",
   "execution_count": 34,
   "id": "6f2cf027-8e04-4ce9-acb3-a15a3dea0e82",
   "metadata": {},
   "outputs": [
    {
     "name": "stdout",
     "output_type": "stream",
     "text": [
      "  0.000281 seconds (6 allocations: 49.891 KiB)\n"
     ]
    },
    {
     "data": {
      "text/plain": [
       "0.9019607843137255"
      ]
     },
     "execution_count": 34,
     "metadata": {},
     "output_type": "execute_result"
    }
   ],
   "source": [
    "# rich club coefficient\n",
    "# from wiki: designed to measure the extent to which well-connected nodes also connect to each other. \n",
    "# Networks which have a relatively high rich-club coefficient are said to demonstrate the rich-club effect and will have \n",
    "# many connections between nodes of high degree. \n",
    "\n",
    "@time rich_club(G, 100)"
   ]
  },
  {
   "cell_type": "markdown",
   "id": "c6c24035-8aa9-4e57-9e49-9904d320f773",
   "metadata": {},
   "source": [
    "### Construct directed graph"
   ]
  },
  {
   "cell_type": "code",
   "execution_count": null,
   "id": "ff8ee007-08d7-4928-b659-cd5e74157c13",
   "metadata": {},
   "outputs": [],
   "source": []
  },
  {
   "cell_type": "markdown",
   "id": "462c72b6-875d-474b-b276-7627e32aadb6",
   "metadata": {},
   "source": [
    "### Cycle Detection"
   ]
  },
  {
   "cell_type": "code",
   "execution_count": 36,
   "id": "fe846b9f-eba6-42ff-b63f-e70e049a727e",
   "metadata": {},
   "outputs": [
    {
     "name": "stdout",
     "output_type": "stream",
     "text": [
      "  0.159897 seconds (545.20 k allocations: 43.762 MiB, 79.47% compilation time)\n"
     ]
    },
    {
     "data": {
      "text/plain": [
       "29318-element Vector{Vector{Int64}}:\n",
       " [8, 5224, 4986]\n",
       " [9, 5224, 4986]\n",
       " [4, 5386, 5224, 4986]\n",
       " [8, 5386, 5224]\n",
       " [9, 5386, 5224]\n",
       " [32, 5386, 5224]\n",
       " [5221, 5386, 5224, 4986]\n",
       " [5222, 5386, 5224, 4986]\n",
       " [8, 5500, 5386]\n",
       " [9, 5500, 5386]\n",
       " [5387, 5500, 5386]\n",
       " [8, 5498, 5386]\n",
       " [9, 5498, 5386]\n",
       " ⋮\n",
       " [5, 9, 4986]\n",
       " [8, 9, 4986]\n",
       " [4, 15, 9]\n",
       " [8, 15, 9]\n",
       " [3, 8, 4986]\n",
       " [4, 8, 4986]\n",
       " [5, 8, 4986]\n",
       " [3, 13, 8]\n",
       " [4, 13, 8]\n",
       " [3, 5, 4986]\n",
       " [4, 5, 4986]\n",
       " [3, 4, 4986]"
      ]
     },
     "execution_count": 36,
     "metadata": {},
     "output_type": "execute_result"
    }
   ],
   "source": [
    "@time cyc_basis = cycle_basis(G, nothing)"
   ]
  },
  {
   "cell_type": "code",
   "execution_count": null,
   "id": "9eeb75f5-cef9-4a76-a588-38075f6b729c",
   "metadata": {},
   "outputs": [],
   "source": []
  }
 ],
 "metadata": {
  "kernelspec": {
   "display_name": "Julia 1.7.2",
   "language": "julia",
   "name": "julia-1.7"
  },
  "language_info": {
   "file_extension": ".jl",
   "mimetype": "application/julia",
   "name": "julia",
   "version": "1.7.2"
  }
 },
 "nbformat": 4,
 "nbformat_minor": 5
}
